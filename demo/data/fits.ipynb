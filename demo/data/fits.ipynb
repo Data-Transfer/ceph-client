{
 "metadata": {
  "language_info": {
   "codemirror_mode": {
    "name": "ipython",
    "version": 3
   },
   "file_extension": ".py",
   "mimetype": "text/x-python",
   "name": "python",
   "nbconvert_exporter": "python",
   "pygments_lexer": "ipython3",
   "version": "3.7.6-final"
  },
  "orig_nbformat": 2,
  "kernelspec": {
   "name": "python37664bitanaconda3virtualenvd1d3224b720e4ad885847c672544f051",
   "display_name": "Python 3.7.6 64-bit ('anaconda3': virtualenv)"
  }
 },
 "nbformat": 4,
 "nbformat_minor": 2,
 "cells": [
  {
   "cell_type": "code",
   "execution_count": 2,
   "metadata": {},
   "outputs": [],
   "source": [
    "from astropy.io import fits"
   ]
  },
  {
   "cell_type": "code",
   "execution_count": 3,
   "metadata": {},
   "outputs": [],
   "source": [
    "import os"
   ]
  },
  {
   "cell_type": "code",
   "execution_count": 4,
   "metadata": {},
   "outputs": [],
   "source": [
    "import sys"
   ]
  },
  {
   "cell_type": "code",
   "execution_count": 10,
   "metadata": {},
   "outputs": [
    {
     "output_type": "execute_result",
     "data": {
      "text/plain": "'/home/ugovaretto/projects/ceph-client/tmp-scratch/data'"
     },
     "metadata": {},
     "execution_count": 10
    }
   ],
   "source": [
    "home = os.path.expanduser(\"~\")\n",
    "datapath = home + \"/projects/ceph-client/tmp-scratch/data\"\n",
    "datapath"
   ]
  },
  {
   "cell_type": "code",
   "execution_count": 11,
   "metadata": {},
   "outputs": [],
   "source": [
    "os.chdir(datapath)"
   ]
  },
  {
   "cell_type": "code",
   "execution_count": 3,
   "metadata": {},
   "outputs": [],
   "source": [
    "hud=fits.open(\"WFPC2ASSNu5780205bx.fits\")"
   ]
  },
  {
   "cell_type": "code",
   "execution_count": 10,
   "metadata": {
    "tags": []
   },
   "outputs": [],
   "source": [
    "hud=fits.open(\"1187603320_20170824094825_gpubox01_00.fits\")"
   ]
  },
  {
   "cell_type": "code",
   "execution_count": 35,
   "metadata": {},
   "outputs": [
    {
     "output_type": "execute_result",
     "data": {
      "text/plain": "{'file': <astropy.io.fits.file._File <_io.FileIO name='1187603320_20170824094825_gpubox01_00.fits' mode='rb' closefd=True>>,\n 'filemode': 'readonly',\n 'hdrLoc': 2880,\n 'datLoc': 5760,\n 'datSpan': 3614400}"
     },
     "metadata": {},
     "execution_count": 35
    }
   ],
   "source": [
    "hud[1].fileinfo()"
   ]
  },
  {
   "cell_type": "code",
   "execution_count": 38,
   "metadata": {},
   "outputs": [
    {
     "output_type": "execute_result",
     "data": {
      "text/plain": "XTENSION= 'IMAGE   '           / Image Extension created by MWA DataCapture     \nBITPIX  =                  -64 / number of bits per data pixel                  \nNAXIS   =                    2 / number of data axes                            \nNAXIS1  =                66048 / length of data axis 1                          \nNAXIS2  =                   32 / length of data axis 2                          \nPCOUNT  =                    0                                                  \nGCOUNT  =                    1                                                  \nCOMMENT   FITS (Flexible Image Transport System) format is defined in 'Astronomy\nCOMMENT   and Astrophysics', volume 376, page 359; bibcode: 2001A&A...376..359H \nTIME    =           1503568103 / Unix time (seconds)                            \nMILLITIM=                    0 / Milliseconds since TIME                        \nINTTIME =                   2. / Integration time (s)                           \nMARKER  =                 2260 / Data offset marker (all channels should match) \n                                                                                "
     },
     "metadata": {},
     "execution_count": 38
    }
   ],
   "source": [
    "hud[1].header"
   ]
  },
  {
   "cell_type": "code",
   "execution_count": 68,
   "metadata": {},
   "outputs": [
    {
     "output_type": "execute_result",
     "data": {
      "text/plain": "54.81104651162791"
     },
     "metadata": {},
     "execution_count": 68
    }
   ],
   "source": [
    "x = 3614400 + 2 * 2880\n",
    "x / 66048"
   ]
  },
  {
   "cell_type": "code",
   "execution_count": 62,
   "metadata": {},
   "outputs": [
    {
     "output_type": "execute_result",
     "data": {
      "text/plain": "4227072"
     },
     "metadata": {},
     "execution_count": 62
    }
   ],
   "source": [
    "32 * 66048 * 2"
   ]
  },
  {
   "cell_type": "code",
   "execution_count": null,
   "metadata": {},
   "outputs": [],
   "source": []
  },
  {
   "cell_type": "code",
   "execution_count": 45,
   "metadata": {},
   "outputs": [
    {
     "output_type": "execute_result",
     "data": {
      "text/plain": "XTENSION= 'IMAGE   '           / Image Extension created by MWA DataCapture     \nBITPIX  =                   32 / number of bits per data pixel                  \nNAXIS   =                    2 / number of data axes                            \nNAXIS1  =                66048 / length of data axis 1                          \nNAXIS2  =                   32 / length of data axis 2                          \nPCOUNT  =                    0                                                  \nGCOUNT  =                    1                                                  \nBSCALE  =                0.125                                                  \nCOMMENT   FITS (Flexible Image Transport System) format is defined in 'Astronomy\nCOMMENT   and Astrophysics', volume 376, page 359; bibcode: 2001A&A...376..359H \nTIME    =           1503568105 / Unix time (seconds)                            \nMILLITIM=                    0 / Milliseconds since TIME                        \nINTTIME =                   2. / Integration time (s)                           \nMARKER  =                 2300 / Data offset marker (all channels should match) "
     },
     "metadata": {},
     "execution_count": 45
    }
   ],
   "source": [
    "hud[2].header"
   ]
  },
  {
   "cell_type": "code",
   "execution_count": 46,
   "metadata": {},
   "outputs": [
    {
     "output_type": "execute_result",
     "data": {
      "text/plain": "{'file': <astropy.io.fits.file._File <_io.FileIO name='1187603320_20170824094825_gpubox01_00.fits' mode='rb' closefd=True>>,\n 'filemode': 'readonly',\n 'hdrLoc': 3620160,\n 'datLoc': 3623040,\n 'datSpan': 3617280}"
     },
     "metadata": {},
     "execution_count": 46
    }
   ],
   "source": [
    "hud[2].fileinfo()"
   ]
  },
  {
   "cell_type": "code",
   "execution_count": 125,
   "metadata": {},
   "outputs": [
    {
     "output_type": "execute_result",
     "data": {
      "text/plain": "1256.0"
     },
     "metadata": {},
     "execution_count": 125
    }
   ],
   "source": [
    "3617280 / 2880"
   ]
  },
  {
   "cell_type": "code",
   "execution_count": 55,
   "metadata": {},
   "outputs": [
    {
     "output_type": "execute_result",
     "data": {
      "text/plain": "3620160"
     },
     "metadata": {},
     "execution_count": 55
    }
   ],
   "source": [
    "hud[3].fileinfo()['hdrLoc'] - hud[2].fileinfo()['hdrLoc']"
   ]
  },
  {
   "cell_type": "code",
   "execution_count": 56,
   "metadata": {},
   "outputs": [
    {
     "output_type": "execute_result",
     "data": {
      "text/plain": "3617280"
     },
     "metadata": {},
     "execution_count": 56
    }
   ],
   "source": [
    "hud[2].fileinfo()['hdrLoc'] - hud[1].fileinfo()['hdrLoc']"
   ]
  },
  {
   "cell_type": "code",
   "execution_count": 57,
   "metadata": {},
   "outputs": [
    {
     "output_type": "execute_result",
     "data": {
      "text/plain": "3617280"
     },
     "metadata": {},
     "execution_count": 57
    }
   ],
   "source": [
    "hud[4].fileinfo()['hdrLoc'] - hud[3].fileinfo()['hdrLoc']"
   ]
  },
  {
   "cell_type": "code",
   "execution_count": 58,
   "metadata": {},
   "outputs": [
    {
     "output_type": "execute_result",
     "data": {
      "text/plain": "3617280"
     },
     "metadata": {},
     "execution_count": 58
    }
   ],
   "source": [
    "hud[5].fileinfo()['hdrLoc'] - hud[4].fileinfo()['hdrLoc']"
   ]
  },
  {
   "cell_type": "code",
   "execution_count": 59,
   "metadata": {},
   "outputs": [
    {
     "output_type": "execute_result",
     "data": {
      "text/plain": "XTENSION= 'IMAGE   '           / Image Extension created by MWA DataCapture     \nBITPIX  =                   32 / number of bits per data pixel                  \nNAXIS   =                    2 / number of data axes                            \nNAXIS1  =                66048 / length of data axis 1                          \nNAXIS2  =                   32 / length of data axis 2                          \nPCOUNT  =                    0                                                  \nGCOUNT  =                    1                                                  \nBSCALE  =                0.125                                                  \nCOMMENT   FITS (Flexible Image Transport System) format is defined in 'Astronomy\nCOMMENT   and Astrophysics', volume 376, page 359; bibcode: 2001A&A...376..359H \nTIME    =           1503568109 / Unix time (seconds)                            \nMILLITIM=                    0 / Milliseconds since TIME                        \nINTTIME =                   2. / Integration time (s)                           \nMARKER  =                 2380 / Data offset marker (all channels should match) "
     },
     "metadata": {},
     "execution_count": 59
    }
   ],
   "source": [
    "hud[4].header"
   ]
  },
  {
   "cell_type": "code",
   "execution_count": 82,
   "metadata": {},
   "outputs": [],
   "source": [
    "h = fits.open(\"f.fits\")"
   ]
  },
  {
   "cell_type": "code",
   "execution_count": 83,
   "metadata": {},
   "outputs": [
    {
     "output_type": "execute_result",
     "data": {
      "text/plain": "{'file': <astropy.io.fits.file._File <_io.FileIO name='f.fits' mode='rb' closefd=True>>,\n 'filemode': 'readonly',\n 'hdrLoc': 2880,\n 'datLoc': 5760,\n 'datSpan': 8455680}"
     },
     "metadata": {},
     "execution_count": 83
    }
   ],
   "source": [
    "h[1].fileinfo()"
   ]
  },
  {
   "cell_type": "code",
   "execution_count": 89,
   "metadata": {},
   "outputs": [
    {
     "output_type": "execute_result",
     "data": {
      "text/plain": "XTENSION= 'IMAGE   '           / Image Extension created by MWA DataCapture     \nBITPIX  =                   32 / number of bits per data pixel                  \nNAXIS   =                    2 / number of data axes                            \nNAXIS1  =                66048 / length of data axis 1                          \nNAXIS2  =                   32 / length of data axis 2                          \nPCOUNT  =                    0                                                  \nGCOUNT  =                    1                                                  \nBSCALE  =                0.125                                                  \nCOMMENT   FITS (Flexible Image Transport System) format is defined in 'Astronomy\nCOMMENT   and Astrophysics', volume 376, page 359; bibcode: 2001A&A...376..359H \nTIME    =           1503568103 / Unix time (seconds)                            \nMILLITIM=                    0 / Milliseconds since TIME                        \nINTTIME =                   2. / Integration time (s)                           \nMARKER  =                 2260 / Data offset marker (all channels should match) \nCHECKSUM= 'QaKkTTIjQYIjQYIj'   / HDU checksum updated 2020-08-18T13:36:11       \nDATASUM = '1606097599'         / data unit checksum updated 2020-08-18T13:36:11 "
     },
     "metadata": {},
     "execution_count": 89
    }
   ],
   "source": [
    "h[1].header"
   ]
  },
  {
   "cell_type": "code",
   "execution_count": 98,
   "metadata": {},
   "outputs": [
    {
     "output_type": "execute_result",
     "data": {
      "text/plain": "5505.0"
     },
     "metadata": {},
     "execution_count": 98
    }
   ],
   "source": [
    "8455680 / 1536"
   ]
  },
  {
   "cell_type": "code",
   "execution_count": 90,
   "metadata": {},
   "outputs": [
    {
     "output_type": "execute_result",
     "data": {
      "text/plain": "XTENSION= 'IMAGE   '           / Image Extension created by MWA DataCapture     \nBITPIX  =                   32 / number of bits per data pixel                  \nNAXIS   =                    2 / number of data axes                            \nNAXIS1  =                66048 / length of data axis 1                          \nNAXIS2  =                   32 / length of data axis 2                          \nPCOUNT  =                    0                                                  \nGCOUNT  =                    1                                                  \nBSCALE  =                0.125                                                  \nCOMMENT   FITS (Flexible Image Transport System) format is defined in 'Astronomy\nCOMMENT   and Astrophysics', volume 376, page 359; bibcode: 2001A&A...376..359H \nTIME    =           1503568105 / Unix time (seconds)                            \nMILLITIM=                    0 / Milliseconds since TIME                        \nINTTIME =                   2. / Integration time (s)                           \nMARKER  =                 2300 / Data offset marker (all channels should match) \nCHECKSUM= 'TeGdWZEZTdEbTZEZ'   / HDU checksum updated 2020-08-18T13:36:11       \nDATASUM = '1607421110'         / data unit checksum updated 2020-08-18T13:36:11 "
     },
     "metadata": {},
     "execution_count": 90
    }
   ],
   "source": [
    "h[2].header"
   ]
  },
  {
   "cell_type": "code",
   "execution_count": 91,
   "metadata": {},
   "outputs": [
    {
     "output_type": "execute_result",
     "data": {
      "text/plain": "{'file': <astropy.io.fits.file._File <_io.FileIO name='f.fits' mode='rb' closefd=True>>,\n 'filemode': 'readonly',\n 'hdrLoc': 8461440,\n 'datLoc': 8464320,\n 'datSpan': 8455680}"
     },
     "metadata": {},
     "execution_count": 91
    }
   ],
   "source": [
    "h[2].fileinfo()"
   ]
  },
  {
   "cell_type": "code",
   "execution_count": 107,
   "metadata": {},
   "outputs": [
    {
     "output_type": "execute_result",
     "data": {
      "text/plain": "1536"
     },
     "metadata": {},
     "execution_count": 107
    }
   ],
   "source": [
    "8455680 - (66048 * 32 * 4)"
   ]
  },
  {
   "cell_type": "code",
   "execution_count": 102,
   "metadata": {},
   "outputs": [
    {
     "output_type": "execute_result",
     "data": {
      "text/plain": "5505.0"
     },
     "metadata": {},
     "execution_count": 102
    }
   ],
   "source": [
    "8455680 / 1536"
   ]
  },
  {
   "cell_type": "code",
   "execution_count": 108,
   "metadata": {},
   "outputs": [
    {
     "output_type": "execute_result",
     "data": {
      "text/plain": "[0,\n 8455680,\n 8455680,\n 8455680,\n 8455680,\n 8455680,\n 8455680,\n 8455680,\n 8455680,\n 8455680,\n 8455680]"
     },
     "metadata": {},
     "execution_count": 108
    }
   ],
   "source": [
    "[i.fileinfo()['datSpan'] for i in h]"
   ]
  },
  {
   "cell_type": "code",
   "execution_count": 120,
   "metadata": {},
   "outputs": [
    {
     "output_type": "execute_result",
     "data": {
      "text/plain": "[0,\n 8454144,\n 8454144,\n 8454144,\n 8454144,\n 8454144,\n 8454144,\n 8454144,\n 8454144,\n 8454144,\n 8454144]"
     },
     "metadata": {},
     "execution_count": 120
    }
   ],
   "source": [
    "[0] + [(x.header['NAXIS1'] * x.header['NAXIS2'] * x.header['BITPIX'] // 8) for x in h[1:]]"
   ]
  },
  {
   "cell_type": "code",
   "execution_count": 121,
   "metadata": {},
   "outputs": [
    {
     "output_type": "execute_result",
     "data": {
      "text/plain": "2938.0"
     },
     "metadata": {},
     "execution_count": 121
    }
   ],
   "source": [
    "0x00811c80 / 2880"
   ]
  },
  {
   "cell_type": "code",
   "execution_count": 122,
   "metadata": {},
   "outputs": [],
   "source": [
    "def m(s):\n",
    "    while s % 2880:\n",
    "        s += 1\n",
    "    return s"
   ]
  },
  {
   "cell_type": "code",
   "execution_count": 124,
   "metadata": {},
   "outputs": [
    {
     "output_type": "execute_result",
     "data": {
      "text/plain": "8455680"
     },
     "metadata": {},
     "execution_count": 124
    }
   ],
   "source": [
    "m(8454144)"
   ]
  },
  {
   "cell_type": "code",
   "execution_count": null,
   "metadata": {},
   "outputs": [],
   "source": []
  }
 ]
}