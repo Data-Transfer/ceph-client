{
 "metadata": {
  "language_info": {
   "codemirror_mode": {
    "name": "ipython",
    "version": 3
   },
   "file_extension": ".py",
   "mimetype": "text/x-python",
   "name": "python",
   "nbconvert_exporter": "python",
   "pygments_lexer": "ipython3",
   "version": "3.7.6-final"
  },
  "orig_nbformat": 2,
  "kernelspec": {
   "name": "python37664bitanaconda3virtualenvd1d3224b720e4ad885847c672544f051",
   "display_name": "Python 3.7.6 64-bit ('anaconda3': virtualenv)"
  }
 },
 "nbformat": 4,
 "nbformat_minor": 2,
 "cells": [
  {
   "cell_type": "code",
   "execution_count": 2,
   "metadata": {},
   "outputs": [],
   "source": [
    "from astropy.io import fits\n",
    "import sys"
   ]
  },
  {
   "cell_type": "code",
   "execution_count": 3,
   "metadata": {},
   "outputs": [],
   "source": [
    "fits_file = \"1187603320_20170824094825_gpubox01_00.fits.fz\""
   ]
  },
  {
   "cell_type": "code",
   "execution_count": 4,
   "metadata": {},
   "outputs": [],
   "source": [
    "hdul = fits.open(fits_file)"
   ]
  },
  {
   "cell_type": "code",
   "execution_count": 5,
   "metadata": {},
   "outputs": [
    {
     "output_type": "execute_result",
     "data": {
      "text/plain": "astropy.io.fits.hdu.compressed.CompImageHeader"
     },
     "metadata": {},
     "execution_count": 5
    }
   ],
   "source": [
    "type(hdul[1].header)"
   ]
  },
  {
   "cell_type": "code",
   "execution_count": 9,
   "metadata": {},
   "outputs": [],
   "source": [
    "hdu = fits.open(\"../tmp/hdu.fits\")"
   ]
  },
  {
   "cell_type": "code",
   "execution_count": 10,
   "metadata": {},
   "outputs": [
    {
     "output_type": "execute_result",
     "data": {
      "text/plain": "XTENSION= 'IMAGE   '           / Image Extension created by MWA DataCapture     \nBITPIX  =                   32 / number of bits per data pixel                  \nNAXIS   =                    2 / number of data axes                            \nNAXIS1  =                66048 / length of data axis 1                          \nNAXIS2  =                   32 / length of data axis 2                          \nPCOUNT  =                    0                                                  \nGCOUNT  =                    1                                                  \nBSCALE  =                0.125                                                  \nCOMMENT   FITS (Flexible Image Transport System) format is defined in 'Astronomy\nCOMMENT   and Astrophysics', volume 376, page 359; bibcode: 2001A&A...376..359H \nTIME    =           1503568117 / Unix time (seconds)                            \nMILLITIM=                    0 / Milliseconds since TIME                        \nINTTIME =                   2. / Integration time (s)                           \nMARKER  =                 2540 / Data offset marker (all channels should match) "
     },
     "metadata": {},
     "execution_count": 10
    }
   ],
   "source": [
    "hdu[0].header"
   ]
  },
  {
   "cell_type": "code",
   "execution_count": 13,
   "metadata": {},
   "outputs": [],
   "source": [
    "h = fits.open('../tmp/hdu.fits.header')"
   ]
  },
  {
   "cell_type": "code",
   "execution_count": 16,
   "metadata": {
    "tags": []
   },
   "outputs": [
    {
     "output_type": "execute_result",
     "data": {
      "text/plain": "XTENSION= 'IMAGE   '           / Image Extension created by MWA DataCapture     \nBITPIX  =                   32 / number of bits per data pixel                  \nNAXIS   =                    2 / number of data axes                            \nNAXIS1  =                66048 / length of data axis 1                          \nNAXIS2  =                   32 / length of data axis 2                          \nPCOUNT  =                    0                                                  \nGCOUNT  =                    1                                                  \nBSCALE  =                0.125                                                  \nCOMMENT   FITS (Flexible Image Transport System) format is defined in 'Astronomy\nCOMMENT   and Astrophysics', volume 376, page 359; bibcode: 2001A&A...376..359H \nTIME    =           1503568117 / Unix time (seconds)                            \nMILLITIM=                    0 / Milliseconds since TIME                        \nINTTIME =                   2. / Integration time (s)                           \nMARKER  =                 2540 / Data offset marker (all channels should match) "
     },
     "metadata": {},
     "execution_count": 16
    }
   ],
   "source": [
    "h[0].header"
   ]
  },
  {
   "cell_type": "code",
   "execution_count": 17,
   "metadata": {},
   "outputs": [],
   "source": [
    "h = fits.open('../tmp/hdu.fits.header2')"
   ]
  },
  {
   "cell_type": "code",
   "execution_count": 19,
   "metadata": {},
   "outputs": [
    {
     "output_type": "execute_result",
     "data": {
      "text/plain": "SIMPLE  =                    T / conforms to FITS standard                      \nBITPIX  =                    8 / array data type                                \nNAXIS   =                    0 / number of array dimensions                     \nEXTEND  =                    T                                                  \nCOMMENT   FITS (Flexible Image Transport System) format is defined in 'Astronomy\nCOMMENT   and Astrophysics', volume 376, page 359; bibcode: 2001A&A...376..359H \nTIME    =           1503568103 / Unix time (seconds)                            \nMILLITIM=                    0 / Milliseconds since TIME                        \nINTTIME =                   2. / Integration time (s)                           \nMARKER  =                 2260 / Data offset marker (all channels should match) \nPROJID  = 'D0000' / MWA Project Id                                              \nOBSID   = '1187603320' / MWA Observation Id                                     "
     },
     "metadata": {},
     "execution_count": 19
    }
   ],
   "source": [
    "h[0].header"
   ]
  },
  {
   "cell_type": "code",
   "execution_count": null,
   "metadata": {},
   "outputs": [],
   "source": []
  }
 ]
}